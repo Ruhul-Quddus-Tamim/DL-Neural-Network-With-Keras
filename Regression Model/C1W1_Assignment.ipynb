{
 "cells": [
  {
   "cell_type": "markdown",
   "metadata": {
    "colab_type": "text",
    "id": "ZL_6GK8qX35J"
   },
   "source": [
    "\n",
    "\n",
    "# Week 1: Multiple Output Models using the Keras Functional API\n",
    "\n",
    "Welcome to the first programming assignment of the course! Your task will be to use the Keras functional API to train a model to predict two outputs. For this lab, you will use the **[Wine Quality Dataset](https://archive.ics.uci.edu/ml/datasets/Wine+Quality)** from the **UCI machine learning repository**. It has separate datasets for red wine and white wine.\n",
    "\n",
    "Normally, the wines are classified into one of the quality ratings specified in the attributes. In this exercise, you will combine the two datasets to predict the wine quality and whether the wine is red or white solely from the attributes. \n",
    "\n",
    "You will model wine quality estimations as a regression problem and wine type detection as a binary classification problem.\n",
    "\n",
    "#### Please complete sections that are marked **(TODO)**"
   ]
  },
  {
   "cell_type": "markdown",
   "metadata": {
    "colab_type": "text",
    "id": "obdcD6urYBY9"
   },
   "source": [
    "## Imports"
   ]
  },
  {
   "cell_type": "code",
   "execution_count": 19,
   "metadata": {
    "colab": {},
    "colab_type": "code",
    "id": "t8N3pcTQ5oQI"
   },
   "outputs": [],
   "source": [
    "import tensorflow as tf\n",
    "from tensorflow.keras.models import Model\n",
    "from tensorflow.keras.layers import Dense, Input\n",
    "\n",
    "import numpy as np\n",
    "import matplotlib.pyplot as plt\n",
    "import pandas as pd\n",
    "from sklearn.model_selection import train_test_split\n",
    "from sklearn.metrics import confusion_matrix\n",
    "import itertools\n",
    "\n",
    "import utils"
   ]
  },
  {
   "cell_type": "markdown",
   "metadata": {
    "colab_type": "text",
    "id": "gQMERzWQYpgm"
   },
   "source": [
    "## Load Dataset\n",
    "\n",
    "\n",
    "You will now load the dataset from the [UCI Machine Learning Repository](https://archive.ics.uci.edu/ml/index.php) which are **already saved** in your workspace (*Note: For successful grading, please **do not** modify the default string set to the `URI` variable below*).\n",
    "\n",
    "### Pre-process the white wine dataset (TODO)\n",
    "You will add a new column named `is_red` in your dataframe to indicate if the wine is white or red. \n",
    "- In the white wine dataset, you will fill the column `is_red` with  zeros (0)."
   ]
  },
  {
   "cell_type": "code",
   "execution_count": 20,
   "metadata": {
    "colab": {},
    "colab_type": "code",
    "deletable": false,
    "id": "2qYAjKXCd4RH",
    "nbgrader": {
     "cell_type": "code",
     "checksum": "325ea195519b7035934c95bb529a062c",
     "grade": false,
     "grade_id": "cell-e5bfa0f152d9a21f",
     "locked": false,
     "schema_version": 3,
     "solution": true,
     "task": false
    }
   },
   "outputs": [
    {
     "data": {
      "text/html": [
       "<div>\n",
       "<style scoped>\n",
       "    .dataframe tbody tr th:only-of-type {\n",
       "        vertical-align: middle;\n",
       "    }\n",
       "\n",
       "    .dataframe tbody tr th {\n",
       "        vertical-align: top;\n",
       "    }\n",
       "\n",
       "    .dataframe thead th {\n",
       "        text-align: right;\n",
       "    }\n",
       "</style>\n",
       "<table border=\"1\" class=\"dataframe\">\n",
       "  <thead>\n",
       "    <tr style=\"text-align: right;\">\n",
       "      <th></th>\n",
       "      <th>fixed acidity</th>\n",
       "      <th>volatile acidity</th>\n",
       "      <th>citric acid</th>\n",
       "      <th>residual sugar</th>\n",
       "      <th>chlorides</th>\n",
       "      <th>free sulfur dioxide</th>\n",
       "      <th>total sulfur dioxide</th>\n",
       "      <th>density</th>\n",
       "      <th>pH</th>\n",
       "      <th>sulphates</th>\n",
       "      <th>alcohol</th>\n",
       "      <th>quality</th>\n",
       "      <th>is_red</th>\n",
       "    </tr>\n",
       "  </thead>\n",
       "  <tbody>\n",
       "    <tr>\n",
       "      <th>0</th>\n",
       "      <td>7.0</td>\n",
       "      <td>0.27</td>\n",
       "      <td>0.36</td>\n",
       "      <td>20.7</td>\n",
       "      <td>0.045</td>\n",
       "      <td>45.0</td>\n",
       "      <td>170.0</td>\n",
       "      <td>1.0010</td>\n",
       "      <td>3.00</td>\n",
       "      <td>0.45</td>\n",
       "      <td>8.8</td>\n",
       "      <td>6</td>\n",
       "      <td>0</td>\n",
       "    </tr>\n",
       "    <tr>\n",
       "      <th>1</th>\n",
       "      <td>6.3</td>\n",
       "      <td>0.30</td>\n",
       "      <td>0.34</td>\n",
       "      <td>1.6</td>\n",
       "      <td>0.049</td>\n",
       "      <td>14.0</td>\n",
       "      <td>132.0</td>\n",
       "      <td>0.9940</td>\n",
       "      <td>3.30</td>\n",
       "      <td>0.49</td>\n",
       "      <td>9.5</td>\n",
       "      <td>6</td>\n",
       "      <td>0</td>\n",
       "    </tr>\n",
       "    <tr>\n",
       "      <th>2</th>\n",
       "      <td>8.1</td>\n",
       "      <td>0.28</td>\n",
       "      <td>0.40</td>\n",
       "      <td>6.9</td>\n",
       "      <td>0.050</td>\n",
       "      <td>30.0</td>\n",
       "      <td>97.0</td>\n",
       "      <td>0.9951</td>\n",
       "      <td>3.26</td>\n",
       "      <td>0.44</td>\n",
       "      <td>10.1</td>\n",
       "      <td>6</td>\n",
       "      <td>0</td>\n",
       "    </tr>\n",
       "    <tr>\n",
       "      <th>3</th>\n",
       "      <td>7.2</td>\n",
       "      <td>0.23</td>\n",
       "      <td>0.32</td>\n",
       "      <td>8.5</td>\n",
       "      <td>0.058</td>\n",
       "      <td>47.0</td>\n",
       "      <td>186.0</td>\n",
       "      <td>0.9956</td>\n",
       "      <td>3.19</td>\n",
       "      <td>0.40</td>\n",
       "      <td>9.9</td>\n",
       "      <td>6</td>\n",
       "      <td>0</td>\n",
       "    </tr>\n",
       "    <tr>\n",
       "      <th>6</th>\n",
       "      <td>6.2</td>\n",
       "      <td>0.32</td>\n",
       "      <td>0.16</td>\n",
       "      <td>7.0</td>\n",
       "      <td>0.045</td>\n",
       "      <td>30.0</td>\n",
       "      <td>136.0</td>\n",
       "      <td>0.9949</td>\n",
       "      <td>3.18</td>\n",
       "      <td>0.47</td>\n",
       "      <td>9.6</td>\n",
       "      <td>6</td>\n",
       "      <td>0</td>\n",
       "    </tr>\n",
       "  </tbody>\n",
       "</table>\n",
       "</div>"
      ],
      "text/plain": [
       "   fixed acidity  volatile acidity  citric acid  residual sugar  chlorides  \\\n",
       "0            7.0              0.27         0.36            20.7      0.045   \n",
       "1            6.3              0.30         0.34             1.6      0.049   \n",
       "2            8.1              0.28         0.40             6.9      0.050   \n",
       "3            7.2              0.23         0.32             8.5      0.058   \n",
       "6            6.2              0.32         0.16             7.0      0.045   \n",
       "\n",
       "   free sulfur dioxide  total sulfur dioxide  density    pH  sulphates  \\\n",
       "0                 45.0                 170.0   1.0010  3.00       0.45   \n",
       "1                 14.0                 132.0   0.9940  3.30       0.49   \n",
       "2                 30.0                  97.0   0.9951  3.26       0.44   \n",
       "3                 47.0                 186.0   0.9956  3.19       0.40   \n",
       "6                 30.0                 136.0   0.9949  3.18       0.47   \n",
       "\n",
       "   alcohol  quality  is_red  \n",
       "0      8.8        6       0  \n",
       "1      9.5        6       0  \n",
       "2     10.1        6       0  \n",
       "3      9.9        6       0  \n",
       "6      9.6        6       0  "
      ]
     },
     "execution_count": 20,
     "metadata": {},
     "output_type": "execute_result"
    }
   ],
   "source": [
    "## Please uncomment all lines in this cell and replace those marked with `# YOUR CODE HERE`.\n",
    "## You can select all lines in this code cell with Ctrl+A (Windows/Linux) or Cmd+A (Mac), then press Ctrl+/ (Windows/Linux) or Cmd+/ (Mac) to uncomment.\n",
    "\n",
    "\n",
    "\n",
    "# # URL of the white wine dataset\n",
    "URI = './winequality-white.csv'\n",
    "\n",
    "# # load the dataset from the URL\n",
    "white_df = pd.read_csv(URI, sep=\";\")\n",
    "\n",
    "# # fill the `is_red` column with zeros.\n",
    "white_df[\"is_red\"] = 0\n",
    "\n",
    "# # keep only the first of duplicate items\n",
    "white_df = white_df.drop_duplicates(keep='first')\n",
    "white_df.head()\n"
   ]
  },
  {
   "cell_type": "code",
   "execution_count": 21,
   "metadata": {
    "deletable": false,
    "editable": false,
    "nbgrader": {
     "cell_type": "code",
     "checksum": "defe38d6ec58fd31cd67b89e46c4373f",
     "grade": true,
     "grade_id": "cell-30575e713b55fc51",
     "locked": true,
     "points": 1,
     "schema_version": 3,
     "solution": false,
     "task": false
    }
   },
   "outputs": [
    {
     "name": "stdout",
     "output_type": "stream",
     "text": [
      "\u001b[92m All public tests passed\n"
     ]
    }
   ],
   "source": [
    "# You can click `File -> Open` in the menu above and open the `utils.py` file \n",
    "# in case you want to inspect the unit tests being used for each graded function.\n",
    "\n",
    "utils.test_white_df(white_df)\n"
   ]
  },
  {
   "cell_type": "code",
   "execution_count": 22,
   "metadata": {
    "colab": {},
    "colab_type": "code",
    "id": "OQHK0ohBQRCk"
   },
   "outputs": [
    {
     "name": "stdout",
     "output_type": "stream",
     "text": [
      "8.8\n",
      "9.1\n"
     ]
    }
   ],
   "source": [
    "print(white_df.alcohol[0])\n",
    "print(white_df.alcohol[100])\n",
    "\n",
    "# EXPECTED OUTPUT\n",
    "# 8.8\n",
    "# 9.1"
   ]
  },
  {
   "cell_type": "markdown",
   "metadata": {},
   "source": [
    "### Pre-process the red wine dataset (TODO)\n",
    "- In the red wine dataset, you will fill in the column `is_red` with ones (1)."
   ]
  },
  {
   "cell_type": "code",
   "execution_count": 23,
   "metadata": {
    "colab": {},
    "colab_type": "code",
    "deletable": false,
    "id": "8y3QxKwBed8v",
    "nbgrader": {
     "cell_type": "code",
     "checksum": "12e0963d15be33b01b4e6ebc8945e51e",
     "grade": false,
     "grade_id": "cell-e47a40f306593274",
     "locked": false,
     "schema_version": 3,
     "solution": true,
     "task": false
    }
   },
   "outputs": [],
   "source": [
    "## Please uncomment all lines in this cell and replace those marked with `# YOUR CODE HERE`.\n",
    "## You can select all lines in this code cell with Ctrl+A (Windows/Linux) or Cmd+A (Mac), then press Ctrl+/ (Windows/Linux) or Cmd+/ (Mac) to uncomment.\n",
    "\n",
    "\n",
    "\n",
    "# # URL of the red wine dataset\n",
    "URI = './winequality-red.csv'\n",
    "\n",
    "# # load the dataset from the URL\n",
    "red_df = pd.read_csv(URI, sep=\";\")\n",
    "\n",
    "# # fill the `is_red` column with ones.\n",
    "red_df[\"is_red\"] = 1\n",
    "\n",
    "# # keep only the first of duplicate items\n",
    "red_df = red_df.drop_duplicates(keep='first')\n"
   ]
  },
  {
   "cell_type": "code",
   "execution_count": 24,
   "metadata": {
    "deletable": false,
    "editable": false,
    "nbgrader": {
     "cell_type": "code",
     "checksum": "d8e0c91b0fd668b63ba74a8f2f958b59",
     "grade": true,
     "grade_id": "cell-2a75937adcc0c25b",
     "locked": true,
     "points": 1,
     "schema_version": 3,
     "solution": false,
     "task": false
    }
   },
   "outputs": [
    {
     "name": "stdout",
     "output_type": "stream",
     "text": [
      "\u001b[92m All public tests passed\n"
     ]
    }
   ],
   "source": [
    "utils.test_red_df(red_df)\n"
   ]
  },
  {
   "cell_type": "code",
   "execution_count": 25,
   "metadata": {
    "colab": {},
    "colab_type": "code",
    "id": "zsB3LUzNQpo_"
   },
   "outputs": [
    {
     "name": "stdout",
     "output_type": "stream",
     "text": [
      "9.4\n",
      "10.2\n"
     ]
    },
    {
     "data": {
      "text/html": [
       "<div>\n",
       "<style scoped>\n",
       "    .dataframe tbody tr th:only-of-type {\n",
       "        vertical-align: middle;\n",
       "    }\n",
       "\n",
       "    .dataframe tbody tr th {\n",
       "        vertical-align: top;\n",
       "    }\n",
       "\n",
       "    .dataframe thead th {\n",
       "        text-align: right;\n",
       "    }\n",
       "</style>\n",
       "<table border=\"1\" class=\"dataframe\">\n",
       "  <thead>\n",
       "    <tr style=\"text-align: right;\">\n",
       "      <th></th>\n",
       "      <th>fixed acidity</th>\n",
       "      <th>volatile acidity</th>\n",
       "      <th>citric acid</th>\n",
       "      <th>residual sugar</th>\n",
       "      <th>chlorides</th>\n",
       "      <th>free sulfur dioxide</th>\n",
       "      <th>total sulfur dioxide</th>\n",
       "      <th>density</th>\n",
       "      <th>pH</th>\n",
       "      <th>sulphates</th>\n",
       "      <th>alcohol</th>\n",
       "      <th>quality</th>\n",
       "      <th>is_red</th>\n",
       "    </tr>\n",
       "  </thead>\n",
       "  <tbody>\n",
       "    <tr>\n",
       "      <th>0</th>\n",
       "      <td>7.4</td>\n",
       "      <td>0.70</td>\n",
       "      <td>0.00</td>\n",
       "      <td>1.9</td>\n",
       "      <td>0.076</td>\n",
       "      <td>11.0</td>\n",
       "      <td>34.0</td>\n",
       "      <td>0.9978</td>\n",
       "      <td>3.51</td>\n",
       "      <td>0.56</td>\n",
       "      <td>9.4</td>\n",
       "      <td>5</td>\n",
       "      <td>1</td>\n",
       "    </tr>\n",
       "    <tr>\n",
       "      <th>1</th>\n",
       "      <td>7.8</td>\n",
       "      <td>0.88</td>\n",
       "      <td>0.00</td>\n",
       "      <td>2.6</td>\n",
       "      <td>0.098</td>\n",
       "      <td>25.0</td>\n",
       "      <td>67.0</td>\n",
       "      <td>0.9968</td>\n",
       "      <td>3.20</td>\n",
       "      <td>0.68</td>\n",
       "      <td>9.8</td>\n",
       "      <td>5</td>\n",
       "      <td>1</td>\n",
       "    </tr>\n",
       "    <tr>\n",
       "      <th>2</th>\n",
       "      <td>7.8</td>\n",
       "      <td>0.76</td>\n",
       "      <td>0.04</td>\n",
       "      <td>2.3</td>\n",
       "      <td>0.092</td>\n",
       "      <td>15.0</td>\n",
       "      <td>54.0</td>\n",
       "      <td>0.9970</td>\n",
       "      <td>3.26</td>\n",
       "      <td>0.65</td>\n",
       "      <td>9.8</td>\n",
       "      <td>5</td>\n",
       "      <td>1</td>\n",
       "    </tr>\n",
       "    <tr>\n",
       "      <th>3</th>\n",
       "      <td>11.2</td>\n",
       "      <td>0.28</td>\n",
       "      <td>0.56</td>\n",
       "      <td>1.9</td>\n",
       "      <td>0.075</td>\n",
       "      <td>17.0</td>\n",
       "      <td>60.0</td>\n",
       "      <td>0.9980</td>\n",
       "      <td>3.16</td>\n",
       "      <td>0.58</td>\n",
       "      <td>9.8</td>\n",
       "      <td>6</td>\n",
       "      <td>1</td>\n",
       "    </tr>\n",
       "    <tr>\n",
       "      <th>5</th>\n",
       "      <td>7.4</td>\n",
       "      <td>0.66</td>\n",
       "      <td>0.00</td>\n",
       "      <td>1.8</td>\n",
       "      <td>0.075</td>\n",
       "      <td>13.0</td>\n",
       "      <td>40.0</td>\n",
       "      <td>0.9978</td>\n",
       "      <td>3.51</td>\n",
       "      <td>0.56</td>\n",
       "      <td>9.4</td>\n",
       "      <td>5</td>\n",
       "      <td>1</td>\n",
       "    </tr>\n",
       "  </tbody>\n",
       "</table>\n",
       "</div>"
      ],
      "text/plain": [
       "   fixed acidity  volatile acidity  citric acid  residual sugar  chlorides  \\\n",
       "0            7.4              0.70         0.00             1.9      0.076   \n",
       "1            7.8              0.88         0.00             2.6      0.098   \n",
       "2            7.8              0.76         0.04             2.3      0.092   \n",
       "3           11.2              0.28         0.56             1.9      0.075   \n",
       "5            7.4              0.66         0.00             1.8      0.075   \n",
       "\n",
       "   free sulfur dioxide  total sulfur dioxide  density    pH  sulphates  \\\n",
       "0                 11.0                  34.0   0.9978  3.51       0.56   \n",
       "1                 25.0                  67.0   0.9968  3.20       0.68   \n",
       "2                 15.0                  54.0   0.9970  3.26       0.65   \n",
       "3                 17.0                  60.0   0.9980  3.16       0.58   \n",
       "5                 13.0                  40.0   0.9978  3.51       0.56   \n",
       "\n",
       "   alcohol  quality  is_red  \n",
       "0      9.4        5       1  \n",
       "1      9.8        5       1  \n",
       "2      9.8        5       1  \n",
       "3      9.8        6       1  \n",
       "5      9.4        5       1  "
      ]
     },
     "execution_count": 25,
     "metadata": {},
     "output_type": "execute_result"
    }
   ],
   "source": [
    "print(red_df.alcohol[0])\n",
    "print(red_df.alcohol[100])\n",
    "\n",
    "red_df.head()\n",
    "\n",
    "# EXPECTED OUTPUT\n",
    "# 9.4\n",
    "# 10.2"
   ]
  },
  {
   "cell_type": "markdown",
   "metadata": {
    "colab_type": "text",
    "id": "2G8B-NYuM6-f"
   },
   "source": [
    "### Concatenate the datasets\n",
    "\n",
    "Next, concatenate the red and white wine dataframes."
   ]
  },
  {
   "cell_type": "code",
   "execution_count": 26,
   "metadata": {
    "colab": {},
    "colab_type": "code",
    "id": "YpQrOjJbfN3m"
   },
   "outputs": [],
   "source": [
    "df = pd.concat([red_df, white_df], ignore_index=True)"
   ]
  },
  {
   "cell_type": "code",
   "execution_count": 27,
   "metadata": {
    "colab": {},
    "colab_type": "code",
    "id": "Se2dTmThQyjb"
   },
   "outputs": [
    {
     "name": "stdout",
     "output_type": "stream",
     "text": [
      "9.4\n",
      "9.5\n"
     ]
    },
    {
     "data": {
      "text/html": [
       "<div>\n",
       "<style scoped>\n",
       "    .dataframe tbody tr th:only-of-type {\n",
       "        vertical-align: middle;\n",
       "    }\n",
       "\n",
       "    .dataframe tbody tr th {\n",
       "        vertical-align: top;\n",
       "    }\n",
       "\n",
       "    .dataframe thead th {\n",
       "        text-align: right;\n",
       "    }\n",
       "</style>\n",
       "<table border=\"1\" class=\"dataframe\">\n",
       "  <thead>\n",
       "    <tr style=\"text-align: right;\">\n",
       "      <th></th>\n",
       "      <th>fixed acidity</th>\n",
       "      <th>volatile acidity</th>\n",
       "      <th>citric acid</th>\n",
       "      <th>residual sugar</th>\n",
       "      <th>chlorides</th>\n",
       "      <th>free sulfur dioxide</th>\n",
       "      <th>total sulfur dioxide</th>\n",
       "      <th>density</th>\n",
       "      <th>pH</th>\n",
       "      <th>sulphates</th>\n",
       "      <th>alcohol</th>\n",
       "      <th>quality</th>\n",
       "      <th>is_red</th>\n",
       "    </tr>\n",
       "  </thead>\n",
       "  <tbody>\n",
       "    <tr>\n",
       "      <th>0</th>\n",
       "      <td>7.4</td>\n",
       "      <td>0.70</td>\n",
       "      <td>0.00</td>\n",
       "      <td>1.9</td>\n",
       "      <td>0.076</td>\n",
       "      <td>11.0</td>\n",
       "      <td>34.0</td>\n",
       "      <td>0.9978</td>\n",
       "      <td>3.51</td>\n",
       "      <td>0.56</td>\n",
       "      <td>9.4</td>\n",
       "      <td>5</td>\n",
       "      <td>1</td>\n",
       "    </tr>\n",
       "    <tr>\n",
       "      <th>1</th>\n",
       "      <td>7.8</td>\n",
       "      <td>0.88</td>\n",
       "      <td>0.00</td>\n",
       "      <td>2.6</td>\n",
       "      <td>0.098</td>\n",
       "      <td>25.0</td>\n",
       "      <td>67.0</td>\n",
       "      <td>0.9968</td>\n",
       "      <td>3.20</td>\n",
       "      <td>0.68</td>\n",
       "      <td>9.8</td>\n",
       "      <td>5</td>\n",
       "      <td>1</td>\n",
       "    </tr>\n",
       "    <tr>\n",
       "      <th>2</th>\n",
       "      <td>7.8</td>\n",
       "      <td>0.76</td>\n",
       "      <td>0.04</td>\n",
       "      <td>2.3</td>\n",
       "      <td>0.092</td>\n",
       "      <td>15.0</td>\n",
       "      <td>54.0</td>\n",
       "      <td>0.9970</td>\n",
       "      <td>3.26</td>\n",
       "      <td>0.65</td>\n",
       "      <td>9.8</td>\n",
       "      <td>5</td>\n",
       "      <td>1</td>\n",
       "    </tr>\n",
       "    <tr>\n",
       "      <th>3</th>\n",
       "      <td>11.2</td>\n",
       "      <td>0.28</td>\n",
       "      <td>0.56</td>\n",
       "      <td>1.9</td>\n",
       "      <td>0.075</td>\n",
       "      <td>17.0</td>\n",
       "      <td>60.0</td>\n",
       "      <td>0.9980</td>\n",
       "      <td>3.16</td>\n",
       "      <td>0.58</td>\n",
       "      <td>9.8</td>\n",
       "      <td>6</td>\n",
       "      <td>1</td>\n",
       "    </tr>\n",
       "    <tr>\n",
       "      <th>4</th>\n",
       "      <td>7.4</td>\n",
       "      <td>0.66</td>\n",
       "      <td>0.00</td>\n",
       "      <td>1.8</td>\n",
       "      <td>0.075</td>\n",
       "      <td>13.0</td>\n",
       "      <td>40.0</td>\n",
       "      <td>0.9978</td>\n",
       "      <td>3.51</td>\n",
       "      <td>0.56</td>\n",
       "      <td>9.4</td>\n",
       "      <td>5</td>\n",
       "      <td>1</td>\n",
       "    </tr>\n",
       "  </tbody>\n",
       "</table>\n",
       "</div>"
      ],
      "text/plain": [
       "   fixed acidity  volatile acidity  citric acid  residual sugar  chlorides  \\\n",
       "0            7.4              0.70         0.00             1.9      0.076   \n",
       "1            7.8              0.88         0.00             2.6      0.098   \n",
       "2            7.8              0.76         0.04             2.3      0.092   \n",
       "3           11.2              0.28         0.56             1.9      0.075   \n",
       "4            7.4              0.66         0.00             1.8      0.075   \n",
       "\n",
       "   free sulfur dioxide  total sulfur dioxide  density    pH  sulphates  \\\n",
       "0                 11.0                  34.0   0.9978  3.51       0.56   \n",
       "1                 25.0                  67.0   0.9968  3.20       0.68   \n",
       "2                 15.0                  54.0   0.9970  3.26       0.65   \n",
       "3                 17.0                  60.0   0.9980  3.16       0.58   \n",
       "4                 13.0                  40.0   0.9978  3.51       0.56   \n",
       "\n",
       "   alcohol  quality  is_red  \n",
       "0      9.4        5       1  \n",
       "1      9.8        5       1  \n",
       "2      9.8        5       1  \n",
       "3      9.8        6       1  \n",
       "4      9.4        5       1  "
      ]
     },
     "execution_count": 27,
     "metadata": {},
     "output_type": "execute_result"
    }
   ],
   "source": [
    "print(df.alcohol[0])\n",
    "print(df.alcohol[100])\n",
    "\n",
    "df.head()\n",
    "\n",
    "# EXPECTED OUTPUT\n",
    "# 9.4\n",
    "# 9.5"
   ]
  },
  {
   "cell_type": "markdown",
   "metadata": {},
   "source": [
    "In a real-world scenario, you should shuffle the data. For this assignment however, **you are not** going to do that because the grader needs to test with deterministic data. If you want the code to do it **after** you've gotten your grade for this notebook, we left the commented line below for reference"
   ]
  },
  {
   "cell_type": "code",
   "execution_count": 28,
   "metadata": {
    "colab": {},
    "colab_type": "code",
    "id": "wx6y3rPpQv4k"
   },
   "outputs": [],
   "source": [
    "df = df.iloc[np.random.permutation(len(df))]"
   ]
  },
  {
   "cell_type": "markdown",
   "metadata": {
    "colab_type": "text",
    "id": "-EqIcbg5M_n1"
   },
   "source": [
    "This will chart the quality of the wines."
   ]
  },
  {
   "cell_type": "code",
   "execution_count": 29,
   "metadata": {
    "colab": {},
    "colab_type": "code",
    "id": "IsvK0-Sgy17C"
   },
   "outputs": [
    {
     "data": {
      "image/png": "[encoded data removed]",
      "text/plain": [
       "<Figure size 432x288 with 1 Axes>"
      ]
     },
     "metadata": {
      "needs_background": "light"
     },
     "output_type": "display_data"
    }
   ],
   "source": [
    "df['quality'].hist(bins=20);"
   ]
  },
  {
   "cell_type": "markdown",
   "metadata": {
    "colab_type": "text",
    "id": "Nut1rmYLzf-p"
   },
   "source": [
    "### Imbalanced data (TODO)\n",
    "You can see from the plot above that the wine quality dataset is imbalanced. \n",
    "- Since there are very few observations with quality equal to 3, 4, 8 and 9, you can drop these observations from your dataset. \n",
    "- You can do this by removing data belonging to all classes except those > 4 and < 8."
   ]
  },
  {
   "cell_type": "code",
   "execution_count": 30,
   "metadata": {
    "colab": {},
    "colab_type": "code",
    "deletable": false,
    "id": "doH9_-gnf3sz",
    "nbgrader": {
     "cell_type": "code",
     "checksum": "d9ba9fc3a3ca02ccc567be33652b80fe",
     "grade": false,
     "grade_id": "cell-6a3e9db696f6827b",
     "locked": false,
     "schema_version": 3,
     "solution": true,
     "task": false
    }
   },
   "outputs": [],
   "source": [
    "## Please uncomment all lines in this cell and replace those marked with `# YOUR CODE HERE`.\n",
    "## You can select all lines in this code cell with Ctrl+A (Windows/Linux) or Cmd+A (Mac), then press Ctrl+/ (Windows/Linux) or Cmd+/ (Mac) to uncomment.\n",
    "\n",
    "\n",
    "\n",
    "# # get data with wine quality greater than 4 and less than 8\n",
    "df = df[(df['quality'] > 4) & (df['quality'] < 8 )]\n",
    "\n",
    "# # reset index and drop the old one\n",
    "df = df.reset_index(drop=True)"
   ]
  },
  {
   "cell_type": "code",
   "execution_count": 31,
   "metadata": {
    "deletable": false,
    "editable": false,
    "nbgrader": {
     "cell_type": "code",
     "checksum": "281e1d86a4803560ed5892cd7eda4c01",
     "grade": true,
     "grade_id": "cell-aed3da719d4682c7",
     "locked": true,
     "points": 1,
     "schema_version": 3,
     "solution": false,
     "task": false
    }
   },
   "outputs": [
    {
     "name": "stdout",
     "output_type": "stream",
     "text": [
      "df.alcohol[0]_check: Value is not as expected. Please check quality interval.\n",
      "Expected: 9.4\n",
      "Result: 11.9\n",
      "Please open utils.py if you want to see the unit test here.\n",
      "\n",
      "df.alcohol[100]_check: Value is not as expected. Please check quality interval.\n",
      "Expected: 10.9\n",
      "Result: 11.9\n",
      "Please open utils.py if you want to see the unit test here.\n",
      "\n",
      "\u001b[92m 0  Tests passed\n",
      "\u001b[91m 2  Tests failed\n"
     ]
    },
    {
     "ename": "Exception",
     "evalue": "Please check the error messages above.",
     "output_type": "error",
     "traceback": [
      "\u001b[0;31m---------------------------------------------------------------------------\u001b[0m",
      "\u001b[0;31mException\u001b[0m                                 Traceback (most recent call last)",
      "\u001b[0;32m<ipython-input-31-02ac41180da9>\u001b[0m in \u001b[0;36m<module>\u001b[0;34m\u001b[0m\n\u001b[0;32m----> 1\u001b[0;31m \u001b[0mutils\u001b[0m\u001b[0;34m.\u001b[0m\u001b[0mtest_df_drop\u001b[0m\u001b[0;34m(\u001b[0m\u001b[0mdf\u001b[0m\u001b[0;34m)\u001b[0m\u001b[0;34m\u001b[0m\u001b[0;34m\u001b[0m\u001b[0m\n\u001b[0m\u001b[1;32m      2\u001b[0m \u001b[0;34m\u001b[0m\u001b[0m\n",
      "\u001b[0;32m~/work/release/W1_Assignment/utils.py\u001b[0m in \u001b[0;36mtest_df_drop\u001b[0;34m(df)\u001b[0m\n\u001b[1;32m     94\u001b[0m     ]\n\u001b[1;32m     95\u001b[0m \u001b[0;34m\u001b[0m\u001b[0m\n\u001b[0;32m---> 96\u001b[0;31m     \u001b[0mtest_loop\u001b[0m\u001b[0;34m(\u001b[0m\u001b[0mtest_cases\u001b[0m\u001b[0;34m)\u001b[0m\u001b[0;34m\u001b[0m\u001b[0;34m\u001b[0m\u001b[0m\n\u001b[0m\u001b[1;32m     97\u001b[0m \u001b[0;34m\u001b[0m\u001b[0m\n\u001b[1;32m     98\u001b[0m \u001b[0;32mdef\u001b[0m \u001b[0mtest_data_sizes\u001b[0m\u001b[0;34m(\u001b[0m\u001b[0mtrain_size\u001b[0m\u001b[0;34m,\u001b[0m \u001b[0mtest_size\u001b[0m\u001b[0;34m,\u001b[0m \u001b[0mval_size\u001b[0m\u001b[0;34m)\u001b[0m\u001b[0;34m:\u001b[0m\u001b[0;34m\u001b[0m\u001b[0;34m\u001b[0m\u001b[0m\n",
      "\u001b[0;32m~/work/release/W1_Assignment/utils.py\u001b[0m in \u001b[0;36mtest_loop\u001b[0;34m(test_cases)\u001b[0m\n\u001b[1;32m     25\u001b[0m         \u001b[0mprint\u001b[0m\u001b[0;34m(\u001b[0m\u001b[0;34m'\\033[92m'\u001b[0m\u001b[0;34m,\u001b[0m \u001b[0msuccess\u001b[0m\u001b[0;34m,\u001b[0m\u001b[0;34m\" Tests passed\"\u001b[0m\u001b[0;34m)\u001b[0m\u001b[0;34m\u001b[0m\u001b[0;34m\u001b[0m\u001b[0m\n\u001b[1;32m     26\u001b[0m         \u001b[0mprint\u001b[0m\u001b[0;34m(\u001b[0m\u001b[0;34m'\\033[91m'\u001b[0m\u001b[0;34m,\u001b[0m \u001b[0mfails\u001b[0m\u001b[0;34m,\u001b[0m \u001b[0;34m\" Tests failed\"\u001b[0m\u001b[0;34m)\u001b[0m\u001b[0;34m\u001b[0m\u001b[0;34m\u001b[0m\u001b[0m\n\u001b[0;32m---> 27\u001b[0;31m         \u001b[0;32mraise\u001b[0m \u001b[0mException\u001b[0m\u001b[0;34m(\u001b[0m\u001b[0;34m\"Please check the error messages above.\"\u001b[0m\u001b[0;34m)\u001b[0m\u001b[0;34m\u001b[0m\u001b[0;34m\u001b[0m\u001b[0m\n\u001b[0m\u001b[1;32m     28\u001b[0m \u001b[0;34m\u001b[0m\u001b[0m\n\u001b[1;32m     29\u001b[0m \u001b[0;32mdef\u001b[0m \u001b[0mtest_white_df\u001b[0m\u001b[0;34m(\u001b[0m\u001b[0mwhite_df\u001b[0m\u001b[0;34m)\u001b[0m\u001b[0;34m:\u001b[0m\u001b[0;34m\u001b[0m\u001b[0;34m\u001b[0m\u001b[0m\n",
      "\u001b[0;31mException\u001b[0m: Please check the error messages above."
     ]
    }
   ],
   "source": [
    "utils.test_df_drop(df)\n",
    "\n"
   ]
  },
  {
   "cell_type": "code",
   "execution_count": 32,
   "metadata": {
    "colab": {},
    "colab_type": "code",
    "id": "xNR1iAlMRPXO"
   },
   "outputs": [
    {
     "name": "stdout",
     "output_type": "stream",
     "text": [
      "11.9\n",
      "11.9\n"
     ]
    }
   ],
   "source": [
    "print(df.alcohol[0])\n",
    "print(df.alcohol[100])\n",
    "\n",
    "# EXPECTED OUTPUT\n",
    "# 9.4\n",
    "# 10.9"
   ]
  },
  {
   "cell_type": "markdown",
   "metadata": {
    "colab_type": "text",
    "id": "cwhuRpnVRTzG"
   },
   "source": [
    "You can plot again to see the new range of data and quality"
   ]
  },
  {
   "cell_type": "code",
   "execution_count": 33,
   "metadata": {
    "colab": {},
    "colab_type": "code",
    "id": "857ygzZiLgGg"
   },
   "outputs": [
    {
     "data": {
      "image/png": "[encoded data removed]",
      "text/plain": [
       "<Figure size 432x288 with 1 Axes>"
      ]
     },
     "metadata": {
      "needs_background": "light"
     },
     "output_type": "display_data"
    }
   ],
   "source": [
    "df['quality'].hist(bins=20);"
   ]
  },
  {
   "cell_type": "markdown",
   "metadata": {
    "colab_type": "text",
    "id": "n3k0vqSsp84t"
   },
   "source": [
    "### Train Test Split (TODO)\n",
    "\n",
    "Next, you can split the datasets into training, test and validation datasets.\n",
    "- The data frame should be split 80:20 into `train` and `test` sets.\n",
    "- The resulting `train` should then be split 80:20 into `train` and `val` sets.\n",
    "- The `train_test_split` parameter `test_size` takes a float value that ranges between 0. and 1, and represents the proportion of the dataset that is allocated to the test set.  The rest of the data is allocated to the training set."
   ]
  },
  {
   "cell_type": "code",
   "execution_count": 34,
   "metadata": {
    "colab": {},
    "colab_type": "code",
    "deletable": false,
    "id": "PAVIf2-fgRVY",
    "nbgrader": {
     "cell_type": "code",
     "checksum": "7f5738f4fb51d65adc9a8acbdf2b9970",
     "grade": false,
     "grade_id": "cell-91946cadf745206b",
     "locked": false,
     "schema_version": 3,
     "solution": true,
     "task": false
    }
   },
   "outputs": [],
   "source": [
    "## Please uncomment all lines in this cell and replace those marked with `# YOUR CODE HERE`.\n",
    "## You can select all lines in this code cell with Ctrl+A (Windows/Linux) or Cmd+A (Mac), then press Ctrl+/ (Windows/Linux) or Cmd+/ (Mac) to uncomment.\n",
    "\n",
    "\n",
    "\n",
    "## Please do not change the random_state parameter. This is needed for grading.\n",
    "\n",
    "# # split df into 80:20 train and test sets\n",
    "train, test = train_test_split(df, test_size=0.2, random_state = 1)\n",
    "                               \n",
    "# # split train into 80:20 train and val sets\n",
    "train, val = train_test_split(train, test_size=0.2, random_state = 1)"
   ]
  },
  {
   "cell_type": "code",
   "execution_count": 35,
   "metadata": {
    "colab": {},
    "colab_type": "code",
    "deletable": false,
    "editable": false,
    "id": "57h9LcEzRWpk",
    "nbgrader": {
     "cell_type": "code",
     "checksum": "42adbe9e66efac7c7a5f8cd73ac92f22",
     "grade": true,
     "grade_id": "cell-64b8b38cd0b965f6",
     "locked": true,
     "points": 1,
     "schema_version": 3,
     "solution": false,
     "task": false
    }
   },
   "outputs": [
    {
     "name": "stdout",
     "output_type": "stream",
     "text": [
      "\u001b[92m All public tests passed\n"
     ]
    }
   ],
   "source": [
    "utils.test_data_sizes(train.size, test.size, val.size)\n",
    "\n"
   ]
  },
  {
   "cell_type": "markdown",
   "metadata": {
    "colab_type": "text",
    "id": "RwTNu4KFqG-K"
   },
   "source": [
    "Here's where you can explore the training stats. You can pop the labels 'is_red' and 'quality' from the data as these will be used as the labels\n"
   ]
  },
  {
   "cell_type": "code",
   "execution_count": 36,
   "metadata": {
    "colab": {},
    "colab_type": "code",
    "id": "Y_afyhhHM6WQ"
   },
   "outputs": [],
   "source": [
    "train_stats = train.describe()\n",
    "train_stats.pop('is_red')\n",
    "train_stats.pop('quality')\n",
    "train_stats = train_stats.transpose()"
   ]
  },
  {
   "cell_type": "markdown",
   "metadata": {
    "colab_type": "text",
    "id": "ahvbYm4fNqSt"
   },
   "source": [
    "Explore the training stats!"
   ]
  },
  {
   "cell_type": "code",
   "execution_count": 37,
   "metadata": {
    "colab": {},
    "colab_type": "code",
    "id": "n_gAtPjZ0otF"
   },
   "outputs": [
    {
     "data": {
      "text/html": [
       "<div>\n",
       "<style scoped>\n",
       "    .dataframe tbody tr th:only-of-type {\n",
       "        vertical-align: middle;\n",
       "    }\n",
       "\n",
       "    .dataframe tbody tr th {\n",
       "        vertical-align: top;\n",
       "    }\n",
       "\n",
       "    .dataframe thead th {\n",
       "        text-align: right;\n",
       "    }\n",
       "</style>\n",
       "<table border=\"1\" class=\"dataframe\">\n",
       "  <thead>\n",
       "    <tr style=\"text-align: right;\">\n",
       "      <th></th>\n",
       "      <th>count</th>\n",
       "      <th>mean</th>\n",
       "      <th>std</th>\n",
       "      <th>min</th>\n",
       "      <th>25%</th>\n",
       "      <th>50%</th>\n",
       "      <th>75%</th>\n",
       "      <th>max</th>\n",
       "    </tr>\n",
       "  </thead>\n",
       "  <tbody>\n",
       "    <tr>\n",
       "      <th>fixed acidity</th>\n",
       "      <td>3155.0</td>\n",
       "      <td>7.224422</td>\n",
       "      <td>1.330057</td>\n",
       "      <td>4.20000</td>\n",
       "      <td>6.4000</td>\n",
       "      <td>7.00000</td>\n",
       "      <td>7.7000</td>\n",
       "      <td>15.9000</td>\n",
       "    </tr>\n",
       "    <tr>\n",
       "      <th>volatile acidity</th>\n",
       "      <td>3155.0</td>\n",
       "      <td>0.337674</td>\n",
       "      <td>0.161916</td>\n",
       "      <td>0.08000</td>\n",
       "      <td>0.2300</td>\n",
       "      <td>0.29000</td>\n",
       "      <td>0.4000</td>\n",
       "      <td>1.3300</td>\n",
       "    </tr>\n",
       "    <tr>\n",
       "      <th>citric acid</th>\n",
       "      <td>3155.0</td>\n",
       "      <td>0.321281</td>\n",
       "      <td>0.147895</td>\n",
       "      <td>0.00000</td>\n",
       "      <td>0.2500</td>\n",
       "      <td>0.31000</td>\n",
       "      <td>0.4000</td>\n",
       "      <td>1.6600</td>\n",
       "    </tr>\n",
       "    <tr>\n",
       "      <th>residual sugar</th>\n",
       "      <td>3155.0</td>\n",
       "      <td>5.120158</td>\n",
       "      <td>4.492912</td>\n",
       "      <td>0.60000</td>\n",
       "      <td>1.8000</td>\n",
       "      <td>2.70000</td>\n",
       "      <td>7.5000</td>\n",
       "      <td>26.0500</td>\n",
       "    </tr>\n",
       "    <tr>\n",
       "      <th>chlorides</th>\n",
       "      <td>3155.0</td>\n",
       "      <td>0.056673</td>\n",
       "      <td>0.035417</td>\n",
       "      <td>0.01200</td>\n",
       "      <td>0.0380</td>\n",
       "      <td>0.04700</td>\n",
       "      <td>0.0670</td>\n",
       "      <td>0.6110</td>\n",
       "    </tr>\n",
       "    <tr>\n",
       "      <th>free sulfur dioxide</th>\n",
       "      <td>3155.0</td>\n",
       "      <td>30.324564</td>\n",
       "      <td>17.326147</td>\n",
       "      <td>1.00000</td>\n",
       "      <td>17.0000</td>\n",
       "      <td>28.00000</td>\n",
       "      <td>41.0000</td>\n",
       "      <td>131.0000</td>\n",
       "    </tr>\n",
       "    <tr>\n",
       "      <th>total sulfur dioxide</th>\n",
       "      <td>3155.0</td>\n",
       "      <td>114.055784</td>\n",
       "      <td>56.734123</td>\n",
       "      <td>6.00000</td>\n",
       "      <td>74.0000</td>\n",
       "      <td>116.00000</td>\n",
       "      <td>153.0000</td>\n",
       "      <td>313.0000</td>\n",
       "    </tr>\n",
       "    <tr>\n",
       "      <th>density</th>\n",
       "      <td>3155.0</td>\n",
       "      <td>0.994595</td>\n",
       "      <td>0.002882</td>\n",
       "      <td>0.98722</td>\n",
       "      <td>0.9923</td>\n",
       "      <td>0.99478</td>\n",
       "      <td>0.9968</td>\n",
       "      <td>1.0032</td>\n",
       "    </tr>\n",
       "    <tr>\n",
       "      <th>pH</th>\n",
       "      <td>3155.0</td>\n",
       "      <td>3.222700</td>\n",
       "      <td>0.160170</td>\n",
       "      <td>2.72000</td>\n",
       "      <td>3.1100</td>\n",
       "      <td>3.21000</td>\n",
       "      <td>3.3200</td>\n",
       "      <td>4.0100</td>\n",
       "    </tr>\n",
       "    <tr>\n",
       "      <th>sulphates</th>\n",
       "      <td>3155.0</td>\n",
       "      <td>0.534719</td>\n",
       "      <td>0.148044</td>\n",
       "      <td>0.22000</td>\n",
       "      <td>0.4400</td>\n",
       "      <td>0.51000</td>\n",
       "      <td>0.6000</td>\n",
       "      <td>1.9800</td>\n",
       "    </tr>\n",
       "    <tr>\n",
       "      <th>alcohol</th>\n",
       "      <td>3155.0</td>\n",
       "      <td>10.524461</td>\n",
       "      <td>1.170465</td>\n",
       "      <td>8.40000</td>\n",
       "      <td>9.5000</td>\n",
       "      <td>10.40000</td>\n",
       "      <td>11.3000</td>\n",
       "      <td>14.9000</td>\n",
       "    </tr>\n",
       "  </tbody>\n",
       "</table>\n",
       "</div>"
      ],
      "text/plain": [
       "                       count        mean        std      min      25%  \\\n",
       "fixed acidity         3155.0    7.224422   1.330057  4.20000   6.4000   \n",
       "volatile acidity      3155.0    0.337674   0.161916  0.08000   0.2300   \n",
       "citric acid           3155.0    0.321281   0.147895  0.00000   0.2500   \n",
       "residual sugar        3155.0    5.120158   4.492912  0.60000   1.8000   \n",
       "chlorides             3155.0    0.056673   0.035417  0.01200   0.0380   \n",
       "free sulfur dioxide   3155.0   30.324564  17.326147  1.00000  17.0000   \n",
       "total sulfur dioxide  3155.0  114.055784  56.734123  6.00000  74.0000   \n",
       "density               3155.0    0.994595   0.002882  0.98722   0.9923   \n",
       "pH                    3155.0    3.222700   0.160170  2.72000   3.1100   \n",
       "sulphates             3155.0    0.534719   0.148044  0.22000   0.4400   \n",
       "alcohol               3155.0   10.524461   1.170465  8.40000   9.5000   \n",
       "\n",
       "                            50%       75%       max  \n",
       "fixed acidity           7.00000    7.7000   15.9000  \n",
       "volatile acidity        0.29000    0.4000    1.3300  \n",
       "citric acid             0.31000    0.4000    1.6600  \n",
       "residual sugar          2.70000    7.5000   26.0500  \n",
       "chlorides               0.04700    0.0670    0.6110  \n",
       "free sulfur dioxide    28.00000   41.0000  131.0000  \n",
       "total sulfur dioxide  116.00000  153.0000  313.0000  \n",
       "density                 0.99478    0.9968    1.0032  \n",
       "pH                      3.21000    3.3200    4.0100  \n",
       "sulphates               0.51000    0.6000    1.9800  \n",
       "alcohol                10.40000   11.3000   14.9000  "
      ]
     },
     "execution_count": 37,
     "metadata": {},
     "output_type": "execute_result"
    }
   ],
   "source": [
    "train_stats"
   ]
  },
  {
   "cell_type": "markdown",
   "metadata": {
    "colab_type": "text",
    "id": "bGPvt9jir_HC"
   },
   "source": [
    "### Get the labels (TODO)\n",
    "\n",
    "The features and labels are currently in the same dataframe.\n",
    "- You will want to store the label columns `is_red` and `quality` separately from the feature columns.  \n",
    "- The following function, `format_output`, gets these two columns from the dataframe (it's given to you).\n",
    "- `format_output` also formats the data into numpy arrays. \n",
    "- Please use the `format_output` and apply it to the `train`, `val` and `test` sets to get dataframes for the labels."
   ]
  },
  {
   "cell_type": "code",
   "execution_count": 38,
   "metadata": {
    "colab": {},
    "colab_type": "code",
    "id": "Z_fs14XQqZVP"
   },
   "outputs": [],
   "source": [
    "def format_output(data):\n",
    "    is_red = data.pop('is_red')\n",
    "    is_red = np.array(is_red)\n",
    "    quality = data.pop('quality')\n",
    "    quality = np.array(quality)\n",
    "    return (quality, is_red)"
   ]
  },
  {
   "cell_type": "code",
   "execution_count": 39,
   "metadata": {
    "colab": {},
    "colab_type": "code",
    "deletable": false,
    "id": "8L3ZZe1fQicm",
    "nbgrader": {
     "cell_type": "code",
     "checksum": "7a86809e54895a816434c48dc903f55d",
     "grade": false,
     "grade_id": "cell-5c30fa2c2a354b0f",
     "locked": false,
     "schema_version": 3,
     "solution": true,
     "task": false
    }
   },
   "outputs": [],
   "source": [
    "## Please uncomment all lines in this cell and replace those marked with `# YOUR CODE HERE`.\n",
    "## You can select all lines in this code cell with Ctrl+A (Windows/Linux) or Cmd+A (Mac), then press Ctrl+/ (Windows/Linux) or Cmd+/ (Mac) to uncomment.\n",
    "\n",
    "\n",
    "\n",
    "# # format the output of the train set\n",
    "train_Y = format_output(train)\n",
    "\n",
    "# # format the output of the val set\n",
    "val_Y = format_output(val)\n",
    "    \n",
    "# # format the output of the test set\n",
    "test_Y = format_output(test)"
   ]
  },
  {
   "cell_type": "code",
   "execution_count": 40,
   "metadata": {
    "deletable": false,
    "editable": false,
    "nbgrader": {
     "cell_type": "code",
     "checksum": "359cabbafaed14ec9bbc1e57a7b6f32c",
     "grade": true,
     "grade_id": "cell-4977d8befb80f56b",
     "locked": true,
     "points": 1,
     "schema_version": 3,
     "solution": false,
     "task": false
    }
   },
   "outputs": [
    {
     "name": "stdout",
     "output_type": "stream",
     "text": [
      "\u001b[92m All public tests passed\n"
     ]
    }
   ],
   "source": [
    "utils.test_format_output(df, train_Y, val_Y, test_Y)"
   ]
  },
  {
   "cell_type": "markdown",
   "metadata": {},
   "source": [
    "Notice that after you get the labels, the `train`, `val` and `test` dataframes no longer contain the label columns, and contain just the feature columns.\n",
    "- This is because you used `.pop` in the `format_output` function."
   ]
  },
  {
   "cell_type": "code",
   "execution_count": 41,
   "metadata": {},
   "outputs": [
    {
     "data": {
      "text/html": [
       "<div>\n",
       "<style scoped>\n",
       "    .dataframe tbody tr th:only-of-type {\n",
       "        vertical-align: middle;\n",
       "    }\n",
       "\n",
       "    .dataframe tbody tr th {\n",
       "        vertical-align: top;\n",
       "    }\n",
       "\n",
       "    .dataframe thead th {\n",
       "        text-align: right;\n",
       "    }\n",
       "</style>\n",
       "<table border=\"1\" class=\"dataframe\">\n",
       "  <thead>\n",
       "    <tr style=\"text-align: right;\">\n",
       "      <th></th>\n",
       "      <th>fixed acidity</th>\n",
       "      <th>volatile acidity</th>\n",
       "      <th>citric acid</th>\n",
       "      <th>residual sugar</th>\n",
       "      <th>chlorides</th>\n",
       "      <th>free sulfur dioxide</th>\n",
       "      <th>total sulfur dioxide</th>\n",
       "      <th>density</th>\n",
       "      <th>pH</th>\n",
       "      <th>sulphates</th>\n",
       "      <th>alcohol</th>\n",
       "    </tr>\n",
       "  </thead>\n",
       "  <tbody>\n",
       "    <tr>\n",
       "      <th>225</th>\n",
       "      <td>6.8</td>\n",
       "      <td>0.52</td>\n",
       "      <td>0.26</td>\n",
       "      <td>5.70</td>\n",
       "      <td>0.038</td>\n",
       "      <td>27.0</td>\n",
       "      <td>130.0</td>\n",
       "      <td>0.99000</td>\n",
       "      <td>3.11</td>\n",
       "      <td>0.27</td>\n",
       "      <td>13.000000</td>\n",
       "    </tr>\n",
       "    <tr>\n",
       "      <th>3557</th>\n",
       "      <td>9.8</td>\n",
       "      <td>0.16</td>\n",
       "      <td>0.46</td>\n",
       "      <td>1.80</td>\n",
       "      <td>0.046</td>\n",
       "      <td>23.0</td>\n",
       "      <td>130.0</td>\n",
       "      <td>0.99587</td>\n",
       "      <td>3.04</td>\n",
       "      <td>0.67</td>\n",
       "      <td>9.600000</td>\n",
       "    </tr>\n",
       "    <tr>\n",
       "      <th>3825</th>\n",
       "      <td>6.9</td>\n",
       "      <td>0.28</td>\n",
       "      <td>0.31</td>\n",
       "      <td>7.20</td>\n",
       "      <td>0.040</td>\n",
       "      <td>47.0</td>\n",
       "      <td>168.0</td>\n",
       "      <td>0.99460</td>\n",
       "      <td>3.29</td>\n",
       "      <td>0.57</td>\n",
       "      <td>10.600000</td>\n",
       "    </tr>\n",
       "    <tr>\n",
       "      <th>1740</th>\n",
       "      <td>6.4</td>\n",
       "      <td>0.29</td>\n",
       "      <td>0.21</td>\n",
       "      <td>9.65</td>\n",
       "      <td>0.041</td>\n",
       "      <td>36.0</td>\n",
       "      <td>119.0</td>\n",
       "      <td>0.99334</td>\n",
       "      <td>2.99</td>\n",
       "      <td>0.34</td>\n",
       "      <td>10.933333</td>\n",
       "    </tr>\n",
       "    <tr>\n",
       "      <th>1221</th>\n",
       "      <td>6.7</td>\n",
       "      <td>0.27</td>\n",
       "      <td>0.69</td>\n",
       "      <td>1.20</td>\n",
       "      <td>0.176</td>\n",
       "      <td>36.0</td>\n",
       "      <td>106.0</td>\n",
       "      <td>0.99288</td>\n",
       "      <td>2.96</td>\n",
       "      <td>0.43</td>\n",
       "      <td>9.200000</td>\n",
       "    </tr>\n",
       "  </tbody>\n",
       "</table>\n",
       "</div>"
      ],
      "text/plain": [
       "      fixed acidity  volatile acidity  citric acid  residual sugar  chlorides  \\\n",
       "225             6.8              0.52         0.26            5.70      0.038   \n",
       "3557            9.8              0.16         0.46            1.80      0.046   \n",
       "3825            6.9              0.28         0.31            7.20      0.040   \n",
       "1740            6.4              0.29         0.21            9.65      0.041   \n",
       "1221            6.7              0.27         0.69            1.20      0.176   \n",
       "\n",
       "      free sulfur dioxide  total sulfur dioxide  density    pH  sulphates  \\\n",
       "225                  27.0                 130.0  0.99000  3.11       0.27   \n",
       "3557                 23.0                 130.0  0.99587  3.04       0.67   \n",
       "3825                 47.0                 168.0  0.99460  3.29       0.57   \n",
       "1740                 36.0                 119.0  0.99334  2.99       0.34   \n",
       "1221                 36.0                 106.0  0.99288  2.96       0.43   \n",
       "\n",
       "        alcohol  \n",
       "225   13.000000  \n",
       "3557   9.600000  \n",
       "3825  10.600000  \n",
       "1740  10.933333  \n",
       "1221   9.200000  "
      ]
     },
     "execution_count": 41,
     "metadata": {},
     "output_type": "execute_result"
    }
   ],
   "source": [
    "train.head()"
   ]
  },
  {
   "cell_type": "markdown",
   "metadata": {
    "colab_type": "text",
    "id": "hEdbrruAsN1D"
   },
   "source": [
    "### Normalize the data (TODO)\n",
    "\n",
    "Next, you can normalize the data, x, using the formula:\n",
    "$$x_{norm} = \\frac{x - \\mu}{\\sigma}$$\n",
    "- The `norm` function is defined for you.\n",
    "- Please apply the `norm` function to normalize the dataframes that contains the feature columns of `train`, `val` and `test` sets."
   ]
  },
  {
   "cell_type": "code",
   "execution_count": 42,
   "metadata": {
    "colab": {},
    "colab_type": "code",
    "id": "WWiZPAHCLjUs"
   },
   "outputs": [],
   "source": [
    "def norm(x):\n",
    "    return (x - train_stats['mean']) / train_stats['std']"
   ]
  },
  {
   "cell_type": "code",
   "execution_count": 43,
   "metadata": {
    "colab": {},
    "colab_type": "code",
    "deletable": false,
    "id": "JEaOi2I2Lk69",
    "nbgrader": {
     "cell_type": "code",
     "checksum": "6bc0cdcb563d192f271067aa3373ff32",
     "grade": false,
     "grade_id": "cell-d8416d975c371095",
     "locked": false,
     "schema_version": 3,
     "solution": true,
     "task": false
    }
   },
   "outputs": [],
   "source": [
    "## Please uncomment all lines in this cell and replace those marked with `# YOUR CODE HERE`.\n",
    "## You can select all lines in this code cell with Ctrl+A (Windows/Linux) or Cmd+A (Mac), then press Ctrl+/ (Windows/Linux) or Cmd+/ (Mac) to uncomment.\n",
    "\n",
    "\n",
    "\n",
    "# # normalize the train set\n",
    "norm_train_X = norm(train)\n",
    "    \n",
    "# # normalize the val set\n",
    "norm_val_X = norm(val)\n",
    "    \n",
    "# # normalize the test set\n",
    "norm_test_X = norm(test)"
   ]
  },
  {
   "cell_type": "code",
   "execution_count": 44,
   "metadata": {
    "deletable": false,
    "editable": false,
    "nbgrader": {
     "cell_type": "code",
     "checksum": "4f567db45bf40191601780379cc100b8",
     "grade": true,
     "grade_id": "cell-97fad979d157529b",
     "locked": true,
     "points": 1,
     "schema_version": 3,
     "solution": false,
     "task": false
    }
   },
   "outputs": [
    {
     "name": "stdout",
     "output_type": "stream",
     "text": [
      "\u001b[92m All public tests passed\n"
     ]
    }
   ],
   "source": [
    "utils.test_norm(norm_train_X, norm_val_X, norm_test_X, train, val, test)\n"
   ]
  },
  {
   "cell_type": "markdown",
   "metadata": {
    "colab_type": "text",
    "id": "hzykDwQhsaPO"
   },
   "source": [
    "## Define the Model (TODO)\n",
    "\n",
    "Define the model using the functional API. The base model will be 2 `Dense` layers of 128 neurons each, and have the `'relu'` activation.\n",
    "- Check out the documentation for [tf.keras.layers.Dense](https://www.tensorflow.org/api_docs/python/tf/keras/layers/Dense)"
   ]
  },
  {
   "cell_type": "code",
   "execution_count": 48,
   "metadata": {
    "colab": {},
    "colab_type": "code",
    "deletable": false,
    "id": "Rhcns3oTFkM6",
    "nbgrader": {
     "cell_type": "code",
     "checksum": "74b031247e569526552bf13a034a1c07",
     "grade": false,
     "grade_id": "cell-73fceedad1fe351c",
     "locked": false,
     "schema_version": 3,
     "solution": true,
     "task": false
    }
   },
   "outputs": [],
   "source": [
    "## Please uncomment all lines in this cell and replace those marked with `# YOUR CODE HERE`.\n",
    "## You can select all lines in this code cell with Ctrl+A (Windows/Linux) or Cmd+A (Mac), then press Ctrl+/ (Windows/Linux) or Cmd+/ (Mac) to uncomment.\n",
    "\n",
    "\n",
    "\n",
    "def base_model(inputs):\n",
    "    x = tf.keras.layers.Dense(128, activation = 'relu')(inputs)\n",
    "    x = tf.keras.layers.Dense(128, activation = 'relu')(x)\n",
    "    return x\n",
    "    \n",
    "#     # connect a Dense layer with 128 neurons and a relu activation\n",
    "    \n",
    "#     # connect another Dense layer with 128 neurons and a relu activation"
   ]
  },
  {
   "cell_type": "code",
   "execution_count": 49,
   "metadata": {
    "deletable": false,
    "editable": false,
    "nbgrader": {
     "cell_type": "code",
     "checksum": "9255924b3def80f679616e4c851a43e1",
     "grade": true,
     "grade_id": "cell-54f742a133353d75",
     "locked": true,
     "points": 1,
     "schema_version": 3,
     "solution": false,
     "task": false
    }
   },
   "outputs": [
    {
     "name": "stdout",
     "output_type": "stream",
     "text": [
      "\u001b[92m All public tests passed\n"
     ]
    }
   ],
   "source": [
    "utils.test_base_model(base_model)"
   ]
  },
  {
   "cell_type": "markdown",
   "metadata": {
    "colab_type": "text",
    "id": "xem_fcVws6Kz"
   },
   "source": [
    "# Define output layers of the model (TODO)\n",
    "\n",
    "You will add output layers to the base model. \n",
    "- The model will need two outputs.\n",
    "\n",
    "One output layer will predict wine quality, which is a numeric value.\n",
    "- Define a `Dense` layer with 1 neuron.\n",
    "- Since this is a regression output, the activation can be left as its default value `None`.\n",
    "\n",
    "The other output layer will predict the wine type, which is either red `1` or not red `0` (white).\n",
    "- Define a `Dense` layer with 1 neuron.\n",
    "- Since there are two possible categories, you can use a sigmoid activation for binary classification.\n",
    "\n",
    "Define the `Model`\n",
    "- Define the `Model` object, and set the following parameters:\n",
    "  - `inputs`: pass in the inputs to the model as a list.\n",
    "  - `outputs`: pass in a list of the outputs that you just defined: wine quality, then wine type.\n",
    "  - **Note**: please list the wine quality before wine type in the outputs, as this will affect the calculated loss if you choose the other order."
   ]
  },
  {
   "cell_type": "code",
   "execution_count": 50,
   "metadata": {
    "colab": {},
    "colab_type": "code",
    "deletable": false,
    "id": "n5UGF8PMVLPt",
    "nbgrader": {
     "cell_type": "code",
     "checksum": "76d35b90d20cdcbb22986cd8211057de",
     "grade": false,
     "grade_id": "cell-19e285f482f021fb",
     "locked": false,
     "schema_version": 3,
     "solution": true,
     "task": false
    }
   },
   "outputs": [],
   "source": [
    "## Please uncomment all lines in this cell and replace those marked with `# YOUR CODE HERE`.\n",
    "## You can select all lines in this code cell with Ctrl+A (Windows/Linux) or Cmd+A (Mac), then press Ctrl+/ (Windows/Linux) or Cmd+/ (Mac) to uncomment.\n",
    "\n",
    "\n",
    "\n",
    "def final_model(inputs):\n",
    "    x = base_model(inputs)\n",
    "    wine_quality = Dense(units='1', name='wine_quality')(x)\n",
    "    wine_type = Dense(units='1', activation='sigmoid', name='wine_type')(x)\n",
    "    model = Model(inputs=inputs, outputs=[wine_quality, wine_type])\n",
    "    return model\n",
    "    \n",
    "#     # get the base model\n",
    "     \n",
    "\n",
    "#     # connect the output Dense layer for regression\n",
    "     \n",
    "\n",
    "#     # connect the output Dense layer for classification. this will use a sigmoid activation.\n",
    "     \n",
    "\n",
    "#     # define the model using the input and output layers"
   ]
  },
  {
   "cell_type": "code",
   "execution_count": 51,
   "metadata": {
    "deletable": false,
    "editable": false,
    "nbgrader": {
     "cell_type": "code",
     "checksum": "89cbf89d8ab5e2e59ecf7f63f517520a",
     "grade": true,
     "grade_id": "cell-40d050f855c817d1",
     "locked": true,
     "points": 1,
     "schema_version": 3,
     "solution": false,
     "task": false
    }
   },
   "outputs": [
    {
     "name": "stdout",
     "output_type": "stream",
     "text": [
      "\u001b[92m All public tests passed\n"
     ]
    }
   ],
   "source": [
    "utils.test_final_model(final_model)"
   ]
  },
  {
   "cell_type": "markdown",
   "metadata": {
    "colab_type": "text",
    "id": "5R0BMTsltZyu"
   },
   "source": [
    "## Compiling the Model\n",
    "\n",
    "Next, compile the model. When setting the loss parameter of `model.compile`, you're setting the loss for each of the two outputs (wine quality and wine type).\n",
    "\n",
    "To set more than one loss, use a dictionary of key-value pairs.\n",
    "- You can look at the docs for the losses [here](https://www.tensorflow.org/api_docs/python/tf/keras/losses#functions).\n",
    "    - **Note**: For the desired spelling, please look at the \"Functions\" section of the documentation and not the \"classes\" section on that same page.\n",
    "- wine_type: Since you will be performing binary classification on wine type, you should use the binary crossentropy loss function for it.  Please pass this in as a string.  \n",
    "  - **Hint**, this should be all lowercase.  In the documentation, you'll see this under the \"Functions\" section, not the \"Classes\" section.\n",
    "- wine_quality: since this is a regression output, use the mean squared error.  Please pass it in as a string, all lowercase.\n",
    "  - **Hint**: You may notice that there are two aliases for mean squared error.  Please use the shorter name.\n",
    "\n",
    "\n",
    "You will also set the metric for each of the two outputs.  Again, to set metrics for two or more outputs, use a dictionary with key value pairs.\n",
    "- The metrics documentation is linked [here](https://www.tensorflow.org/api_docs/python/tf/keras/metrics).\n",
    "- For the wine type, please set it to accuracy as a string, all lowercase.\n",
    "- For wine quality, please use the root mean squared error.  Instead of a string, you'll set it to an instance of the class [RootMeanSquaredError](https://www.tensorflow.org/api_docs/python/tf/keras/metrics/RootMeanSquaredError), which belongs to the tf.keras.metrics module.\n",
    "\n",
    "**Note**: If you see the error message \n",
    ">Exception: wine quality loss function is incorrect.\n",
    "\n",
    "- Please also check your other losses and metrics, as the error may be caused by the other three key-value pairs and not the wine quality loss."
   ]
  },
  {
   "cell_type": "code",
   "execution_count": 58,
   "metadata": {
    "colab": {},
    "colab_type": "code",
    "deletable": false,
    "id": "LK11duUbUjmh",
    "nbgrader": {
     "cell_type": "code",
     "checksum": "22f45067ca69eb2ccadb43874dbcc27b",
     "grade": false,
     "grade_id": "cell-81afdc4dcca51d5e",
     "locked": false,
     "schema_version": 3,
     "solution": true,
     "task": false
    }
   },
   "outputs": [],
   "source": [
    "## Please uncomment all lines in this cell and replace those marked with `# YOUR CODE HERE`.\n",
    "## You can select all lines in this code cell with Ctrl+A (Windows/Linux) or Cmd+A (Mac), then press Ctrl+/ (Windows/Linux) or Cmd+/ (Mac) to uncomment.\n",
    "\n",
    "\n",
    "\n",
    "inputs = tf.keras.layers.Input(shape=(11,))\n",
    "rms = tf.keras.optimizers.RMSprop(lr=0.0001)\n",
    "model = final_model(inputs)\n",
    "\n",
    "model.compile(optimizer=rms, \n",
    "              loss = {'wine_type' : 'binary_crossentropy',\n",
    "                       'wine_quality' : 'mse'\n",
    "                      },\n",
    "               metrics = {'wine_type' : 'accuracy',\n",
    "                          'wine_quality': tf.keras.metrics.RootMeanSquaredError()})"
   ]
  },
  {
   "cell_type": "code",
   "execution_count": 59,
   "metadata": {
    "deletable": false,
    "editable": false,
    "nbgrader": {
     "cell_type": "code",
     "checksum": "88e02238ea5e456ff65e835cc8158054",
     "grade": true,
     "grade_id": "cell-2eeeba02391c4632",
     "locked": true,
     "points": 1,
     "schema_version": 3,
     "solution": false,
     "task": false
    }
   },
   "outputs": [
    {
     "name": "stdout",
     "output_type": "stream",
     "text": [
      "\u001b[92m All public tests passed\n"
     ]
    }
   ],
   "source": [
    "utils.test_model_compile(model)"
   ]
  },
  {
   "cell_type": "markdown",
   "metadata": {
    "colab_type": "text",
    "id": "90MpAMpWuKm-"
   },
   "source": [
    "## Training the Model (TODO)\n",
    "\n",
    "Fit the model to the training inputs and outputs. \n",
    "- Check the documentation for [model.fit](https://www.tensorflow.org/api_docs/python/tf/keras/Model#fit).\n",
    "- Remember to use the normalized training set as inputs. \n",
    "- For the validation data, please use the normalized validation set.\n",
    "\n",
    "**Important: Please do not increase the number of epochs below. This is to avoid the grader from timing out. You can increase it once you have submitted your work.**"
   ]
  },
  {
   "cell_type": "code",
   "execution_count": 60,
   "metadata": {
    "colab": {},
    "colab_type": "code",
    "deletable": false,
    "id": "_eiZkle4XwiY",
    "nbgrader": {
     "cell_type": "code",
     "checksum": "d1a4565296017a0611c6f2de675f96cf",
     "grade": false,
     "grade_id": "cell-0bb56262896f6680",
     "locked": false,
     "schema_version": 3,
     "solution": true,
     "task": false
    }
   },
   "outputs": [
    {
     "name": "stdout",
     "output_type": "stream",
     "text": [
      "Train on 3155 samples, validate on 789 samples\n",
      "Epoch 1/40\n",
      "3155/3155 [==============================] - 1s 366us/sample - loss: 26.0628 - wine_quality_loss: 25.3993 - wine_type_loss: 0.6340 - wine_quality_root_mean_squared_error: 5.0427 - wine_type_accuracy: 0.6916 - val_loss: 18.3855 - val_wine_quality_loss: 17.7292 - val_wine_type_loss: 0.6288 - val_wine_quality_root_mean_squared_error: 4.2139 - val_wine_type_accuracy: 0.6401\n",
      "Epoch 2/40\n",
      "3155/3155 [==============================] - 0s 121us/sample - loss: 12.5517 - wine_quality_loss: 11.9253 - wine_type_loss: 0.6021 - wine_quality_root_mean_squared_error: 3.4568 - wine_type_accuracy: 0.7227 - val_loss: 7.4741 - val_wine_quality_loss: 6.9063 - val_wine_type_loss: 0.5701 - val_wine_quality_root_mean_squared_error: 2.6275 - val_wine_type_accuracy: 0.8340\n",
      "Epoch 3/40\n",
      "3155/3155 [==============================] - 0s 98us/sample - loss: 5.0908 - wine_quality_loss: 4.5687 - wine_type_loss: 0.5102 - wine_quality_root_mean_squared_error: 2.1401 - wine_type_accuracy: 0.9268 - val_loss: 3.3103 - val_wine_quality_loss: 2.8897 - val_wine_type_loss: 0.4442 - val_wine_quality_root_mean_squared_error: 1.6929 - val_wine_type_accuracy: 0.9797\n",
      "Epoch 4/40\n",
      "3155/3155 [==============================] - 0s 100us/sample - loss: 3.0039 - wine_quality_loss: 2.6195 - wine_type_loss: 0.3818 - wine_quality_root_mean_squared_error: 1.6192 - wine_type_accuracy: 0.9696 - val_loss: 2.3468 - val_wine_quality_loss: 2.0409 - val_wine_type_loss: 0.3204 - val_wine_quality_root_mean_squared_error: 1.4235 - val_wine_type_accuracy: 0.9696\n",
      "Epoch 5/40\n",
      "3155/3155 [==============================] - 0s 97us/sample - loss: 2.3636 - wine_quality_loss: 2.0799 - wine_type_loss: 0.2814 - wine_quality_root_mean_squared_error: 1.4428 - wine_type_accuracy: 0.9693 - val_loss: 1.9242 - val_wine_quality_loss: 1.6988 - val_wine_type_loss: 0.2330 - val_wine_quality_root_mean_squared_error: 1.3004 - val_wine_type_accuracy: 0.9797\n",
      "Epoch 6/40\n",
      "3155/3155 [==============================] - 0s 112us/sample - loss: 2.0009 - wine_quality_loss: 1.7895 - wine_type_loss: 0.2108 - wine_quality_root_mean_squared_error: 1.3379 - wine_type_accuracy: 0.9816 - val_loss: 1.6689 - val_wine_quality_loss: 1.4975 - val_wine_type_loss: 0.1728 - val_wine_quality_root_mean_squared_error: 1.2230 - val_wine_type_accuracy: 0.9861\n",
      "Epoch 7/40\n",
      "3155/3155 [==============================] - 0s 97us/sample - loss: 1.7736 - wine_quality_loss: 1.6121 - wine_type_loss: 0.1611 - wine_quality_root_mean_squared_error: 1.2698 - wine_type_accuracy: 0.9883 - val_loss: 1.4992 - val_wine_quality_loss: 1.3696 - val_wine_type_loss: 0.1297 - val_wine_quality_root_mean_squared_error: 1.1700 - val_wine_type_accuracy: 0.9911\n",
      "Epoch 8/40\n",
      "3155/3155 [==============================] - 0s 97us/sample - loss: 1.6060 - wine_quality_loss: 1.4793 - wine_type_loss: 0.1270 - wine_quality_root_mean_squared_error: 1.2161 - wine_type_accuracy: 0.9908 - val_loss: 1.3650 - val_wine_quality_loss: 1.2627 - val_wine_type_loss: 0.1003 - val_wine_quality_root_mean_squared_error: 1.1244 - val_wine_type_accuracy: 0.9911\n",
      "Epoch 9/40\n",
      "3155/3155 [==============================] - 0s 96us/sample - loss: 1.4665 - wine_quality_loss: 1.3631 - wine_type_loss: 0.1034 - wine_quality_root_mean_squared_error: 1.1676 - wine_type_accuracy: 0.9908 - val_loss: 1.2511 - val_wine_quality_loss: 1.1706 - val_wine_type_loss: 0.0791 - val_wine_quality_root_mean_squared_error: 1.0824 - val_wine_type_accuracy: 0.9924\n",
      "Epoch 10/40\n",
      "3155/3155 [==============================] - 0s 95us/sample - loss: 1.3580 - wine_quality_loss: 1.2711 - wine_type_loss: 0.0861 - wine_quality_root_mean_squared_error: 1.1277 - wine_type_accuracy: 0.9908 - val_loss: 1.1629 - val_wine_quality_loss: 1.0958 - val_wine_type_loss: 0.0642 - val_wine_quality_root_mean_squared_error: 1.0480 - val_wine_type_accuracy: 0.9949\n",
      "Epoch 11/40\n",
      "3155/3155 [==============================] - 0s 96us/sample - loss: 1.2582 - wine_quality_loss: 1.1830 - wine_type_loss: 0.0745 - wine_quality_root_mean_squared_error: 1.0880 - wine_type_accuracy: 0.9914 - val_loss: 1.0757 - val_wine_quality_loss: 1.0191 - val_wine_type_loss: 0.0537 - val_wine_quality_root_mean_squared_error: 1.0108 - val_wine_type_accuracy: 0.9949\n",
      "Epoch 12/40\n",
      "3155/3155 [==============================] - 0s 95us/sample - loss: 1.1678 - wine_quality_loss: 1.1022 - wine_type_loss: 0.0657 - wine_quality_root_mean_squared_error: 1.0498 - wine_type_accuracy: 0.9911 - val_loss: 1.0078 - val_wine_quality_loss: 0.9591 - val_wine_type_loss: 0.0459 - val_wine_quality_root_mean_squared_error: 0.9806 - val_wine_type_accuracy: 0.9949\n",
      "Epoch 13/40\n",
      "3155/3155 [==============================] - 0s 95us/sample - loss: 1.0911 - wine_quality_loss: 1.0306 - wine_type_loss: 0.0595 - wine_quality_root_mean_squared_error: 1.0156 - wine_type_accuracy: 0.9918 - val_loss: 0.9511 - val_wine_quality_loss: 0.9064 - val_wine_type_loss: 0.0404 - val_wine_quality_root_mean_squared_error: 0.9541 - val_wine_type_accuracy: 0.9949\n",
      "Epoch 14/40\n",
      "3155/3155 [==============================] - 0s 95us/sample - loss: 1.0159 - wine_quality_loss: 0.9609 - wine_type_loss: 0.0550 - wine_quality_root_mean_squared_error: 0.9803 - wine_type_accuracy: 0.9924 - val_loss: 0.8815 - val_wine_quality_loss: 0.8434 - val_wine_type_loss: 0.0358 - val_wine_quality_root_mean_squared_error: 0.9194 - val_wine_type_accuracy: 0.9949\n",
      "Epoch 15/40\n",
      "3155/3155 [==============================] - 0s 95us/sample - loss: 0.9503 - wine_quality_loss: 0.9034 - wine_type_loss: 0.0519 - wine_quality_root_mean_squared_error: 0.9481 - wine_type_accuracy: 0.9930 - val_loss: 0.8236 - val_wine_quality_loss: 0.7871 - val_wine_type_loss: 0.0328 - val_wine_quality_root_mean_squared_error: 0.8891 - val_wine_type_accuracy: 0.9949\n",
      "Epoch 16/40\n",
      "3155/3155 [==============================] - 0s 97us/sample - loss: 0.8932 - wine_quality_loss: 0.8442 - wine_type_loss: 0.0487 - wine_quality_root_mean_squared_error: 0.9189 - wine_type_accuracy: 0.9930 - val_loss: 0.7727 - val_wine_quality_loss: 0.7389 - val_wine_type_loss: 0.0301 - val_wine_quality_root_mean_squared_error: 0.8616 - val_wine_type_accuracy: 0.9949\n",
      "Epoch 17/40\n",
      "3155/3155 [==============================] - 0s 97us/sample - loss: 0.8391 - wine_quality_loss: 0.7917 - wine_type_loss: 0.0464 - wine_quality_root_mean_squared_error: 0.8902 - wine_type_accuracy: 0.9930 - val_loss: 0.7251 - val_wine_quality_loss: 0.6939 - val_wine_type_loss: 0.0283 - val_wine_quality_root_mean_squared_error: 0.8346 - val_wine_type_accuracy: 0.9962\n",
      "Epoch 18/40\n",
      "3155/3155 [==============================] - 0s 96us/sample - loss: 0.7919 - wine_quality_loss: 0.7463 - wine_type_loss: 0.0446 - wine_quality_root_mean_squared_error: 0.8644 - wine_type_accuracy: 0.9933 - val_loss: 0.6894 - val_wine_quality_loss: 0.6597 - val_wine_type_loss: 0.0267 - val_wine_quality_root_mean_squared_error: 0.8139 - val_wine_type_accuracy: 0.9962\n",
      "Epoch 19/40\n",
      "3155/3155 [==============================] - 0s 97us/sample - loss: 0.7443 - wine_quality_loss: 0.6996 - wine_type_loss: 0.0431 - wine_quality_root_mean_squared_error: 0.8373 - wine_type_accuracy: 0.9940 - val_loss: 0.6593 - val_wine_quality_loss: 0.6307 - val_wine_type_loss: 0.0253 - val_wine_quality_root_mean_squared_error: 0.7961 - val_wine_type_accuracy: 0.9962\n",
      "Epoch 20/40\n",
      "3155/3155 [==============================] - 0s 95us/sample - loss: 0.7052 - wine_quality_loss: 0.6626 - wine_type_loss: 0.0419 - wine_quality_root_mean_squared_error: 0.8144 - wine_type_accuracy: 0.9940 - val_loss: 0.6249 - val_wine_quality_loss: 0.5969 - val_wine_type_loss: 0.0242 - val_wine_quality_root_mean_squared_error: 0.7749 - val_wine_type_accuracy: 0.9962\n",
      "Epoch 21/40\n",
      "3155/3155 [==============================] - 0s 116us/sample - loss: 0.6675 - wine_quality_loss: 0.6272 - wine_type_loss: 0.0408 - wine_quality_root_mean_squared_error: 0.7916 - wine_type_accuracy: 0.9937 - val_loss: 0.5884 - val_wine_quality_loss: 0.5619 - val_wine_type_loss: 0.0233 - val_wine_quality_root_mean_squared_error: 0.7515 - val_wine_type_accuracy: 0.9962\n",
      "Epoch 22/40\n",
      "3155/3155 [==============================] - 0s 97us/sample - loss: 0.6340 - wine_quality_loss: 0.5934 - wine_type_loss: 0.0400 - wine_quality_root_mean_squared_error: 0.7707 - wine_type_accuracy: 0.9943 - val_loss: 0.5626 - val_wine_quality_loss: 0.5369 - val_wine_type_loss: 0.0225 - val_wine_quality_root_mean_squared_error: 0.7347 - val_wine_type_accuracy: 0.9962\n",
      "Epoch 23/40\n",
      "3155/3155 [==============================] - 0s 96us/sample - loss: 0.6050 - wine_quality_loss: 0.5658 - wine_type_loss: 0.0391 - wine_quality_root_mean_squared_error: 0.7522 - wine_type_accuracy: 0.9937 - val_loss: 0.5377 - val_wine_quality_loss: 0.5125 - val_wine_type_loss: 0.0220 - val_wine_quality_root_mean_squared_error: 0.7180 - val_wine_type_accuracy: 0.9962\n",
      "Epoch 24/40\n",
      "3155/3155 [==============================] - 0s 97us/sample - loss: 0.5779 - wine_quality_loss: 0.5396 - wine_type_loss: 0.0384 - wine_quality_root_mean_squared_error: 0.7344 - wine_type_accuracy: 0.9937 - val_loss: 0.5146 - val_wine_quality_loss: 0.4905 - val_wine_type_loss: 0.0214 - val_wine_quality_root_mean_squared_error: 0.7021 - val_wine_type_accuracy: 0.9962\n",
      "Epoch 25/40\n",
      "3155/3155 [==============================] - 0s 97us/sample - loss: 0.5523 - wine_quality_loss: 0.5145 - wine_type_loss: 0.0378 - wine_quality_root_mean_squared_error: 0.7172 - wine_type_accuracy: 0.9946 - val_loss: 0.4941 - val_wine_quality_loss: 0.4706 - val_wine_type_loss: 0.0208 - val_wine_quality_root_mean_squared_error: 0.6878 - val_wine_type_accuracy: 0.9962\n",
      "Epoch 26/40\n",
      "3155/3155 [==============================] - 0s 96us/sample - loss: 0.5308 - wine_quality_loss: 0.4934 - wine_type_loss: 0.0373 - wine_quality_root_mean_squared_error: 0.7025 - wine_type_accuracy: 0.9946 - val_loss: 0.4769 - val_wine_quality_loss: 0.4540 - val_wine_type_loss: 0.0204 - val_wine_quality_root_mean_squared_error: 0.6755 - val_wine_type_accuracy: 0.9962\n",
      "Epoch 27/40\n",
      "3155/3155 [==============================] - 0s 114us/sample - loss: 0.5088 - wine_quality_loss: 0.4714 - wine_type_loss: 0.0367 - wine_quality_root_mean_squared_error: 0.6870 - wine_type_accuracy: 0.9943 - val_loss: 0.4625 - val_wine_quality_loss: 0.4404 - val_wine_type_loss: 0.0199 - val_wine_quality_root_mean_squared_error: 0.6651 - val_wine_type_accuracy: 0.9962\n",
      "Epoch 28/40\n",
      "3155/3155 [==============================] - 0s 97us/sample - loss: 0.4903 - wine_quality_loss: 0.4534 - wine_type_loss: 0.0362 - wine_quality_root_mean_squared_error: 0.6738 - wine_type_accuracy: 0.9943 - val_loss: 0.4510 - val_wine_quality_loss: 0.4293 - val_wine_type_loss: 0.0196 - val_wine_quality_root_mean_squared_error: 0.6567 - val_wine_type_accuracy: 0.9962\n",
      "Epoch 29/40\n",
      "3155/3155 [==============================] - 0s 96us/sample - loss: 0.4742 - wine_quality_loss: 0.4372 - wine_type_loss: 0.0358 - wine_quality_root_mean_squared_error: 0.6620 - wine_type_accuracy: 0.9943 - val_loss: 0.4379 - val_wine_quality_loss: 0.4165 - val_wine_type_loss: 0.0194 - val_wine_quality_root_mean_squared_error: 0.6468 - val_wine_type_accuracy: 0.9962\n",
      "Epoch 30/40\n",
      "3155/3155 [==============================] - 0s 93us/sample - loss: 0.4600 - wine_quality_loss: 0.4244 - wine_type_loss: 0.0354 - wine_quality_root_mean_squared_error: 0.6515 - wine_type_accuracy: 0.9946 - val_loss: 0.4275 - val_wine_quality_loss: 0.4059 - val_wine_type_loss: 0.0191 - val_wine_quality_root_mean_squared_error: 0.6389 - val_wine_type_accuracy: 0.9962\n",
      "Epoch 31/40\n",
      "3155/3155 [==============================] - 0s 94us/sample - loss: 0.4475 - wine_quality_loss: 0.4120 - wine_type_loss: 0.0349 - wine_quality_root_mean_squared_error: 0.6422 - wine_type_accuracy: 0.9946 - val_loss: 0.4244 - val_wine_quality_loss: 0.4029 - val_wine_type_loss: 0.0188 - val_wine_quality_root_mean_squared_error: 0.6367 - val_wine_type_accuracy: 0.9962\n",
      "Epoch 32/40\n",
      "3155/3155 [==============================] - 0s 77us/sample - loss: 0.4360 - wine_quality_loss: 0.4006 - wine_type_loss: 0.0346 - wine_quality_root_mean_squared_error: 0.6334 - wine_type_accuracy: 0.9946 - val_loss: 0.4101 - val_wine_quality_loss: 0.3888 - val_wine_type_loss: 0.0185 - val_wine_quality_root_mean_squared_error: 0.6255 - val_wine_type_accuracy: 0.9962\n",
      "Epoch 33/40\n",
      "3155/3155 [==============================] - 0s 93us/sample - loss: 0.4254 - wine_quality_loss: 0.3911 - wine_type_loss: 0.0342 - wine_quality_root_mean_squared_error: 0.6253 - wine_type_accuracy: 0.9946 - val_loss: 0.4094 - val_wine_quality_loss: 0.3888 - val_wine_type_loss: 0.0183 - val_wine_quality_root_mean_squared_error: 0.6252 - val_wine_type_accuracy: 0.9962\n",
      "Epoch 34/40\n",
      "3155/3155 [==============================] - 0s 94us/sample - loss: 0.4167 - wine_quality_loss: 0.3822 - wine_type_loss: 0.0340 - wine_quality_root_mean_squared_error: 0.6185 - wine_type_accuracy: 0.9946 - val_loss: 0.3952 - val_wine_quality_loss: 0.3746 - val_wine_type_loss: 0.0181 - val_wine_quality_root_mean_squared_error: 0.6139 - val_wine_type_accuracy: 0.9962\n",
      "Epoch 35/40\n",
      "3155/3155 [==============================] - 0s 95us/sample - loss: 0.4069 - wine_quality_loss: 0.3731 - wine_type_loss: 0.0337 - wine_quality_root_mean_squared_error: 0.6109 - wine_type_accuracy: 0.9946 - val_loss: 0.3898 - val_wine_quality_loss: 0.3697 - val_wine_type_loss: 0.0179 - val_wine_quality_root_mean_squared_error: 0.6096 - val_wine_type_accuracy: 0.9962\n",
      "Epoch 36/40\n",
      "3155/3155 [==============================] - 0s 94us/sample - loss: 0.4007 - wine_quality_loss: 0.3686 - wine_type_loss: 0.0333 - wine_quality_root_mean_squared_error: 0.6060 - wine_type_accuracy: 0.9946 - val_loss: 0.3835 - val_wine_quality_loss: 0.3637 - val_wine_type_loss: 0.0177 - val_wine_quality_root_mean_squared_error: 0.6046 - val_wine_type_accuracy: 0.9962\n",
      "Epoch 37/40\n",
      "3155/3155 [==============================] - 0s 93us/sample - loss: 0.3920 - wine_quality_loss: 0.3585 - wine_type_loss: 0.0353 - wine_quality_root_mean_squared_error: 0.5991 - wine_type_accuracy: 0.9946 - val_loss: 0.3811 - val_wine_quality_loss: 0.3616 - val_wine_type_loss: 0.0174 - val_wine_quality_root_mean_squared_error: 0.6029 - val_wine_type_accuracy: 0.9962\n",
      "Epoch 38/40\n",
      "3155/3155 [==============================] - 0s 92us/sample - loss: 0.3878 - wine_quality_loss: 0.3546 - wine_type_loss: 0.0328 - wine_quality_root_mean_squared_error: 0.5958 - wine_type_accuracy: 0.9946 - val_loss: 0.3738 - val_wine_quality_loss: 0.3546 - val_wine_type_loss: 0.0173 - val_wine_quality_root_mean_squared_error: 0.5969 - val_wine_type_accuracy: 0.9962\n",
      "Epoch 39/40\n",
      "3155/3155 [==============================] - 0s 92us/sample - loss: 0.3825 - wine_quality_loss: 0.3500 - wine_type_loss: 0.0325 - wine_quality_root_mean_squared_error: 0.5916 - wine_type_accuracy: 0.9946 - val_loss: 0.3711 - val_wine_quality_loss: 0.3524 - val_wine_type_loss: 0.0171 - val_wine_quality_root_mean_squared_error: 0.5948 - val_wine_type_accuracy: 0.9962\n",
      "Epoch 40/40\n",
      "3155/3155 [==============================] - 0s 76us/sample - loss: 0.3767 - wine_quality_loss: 0.3436 - wine_type_loss: 0.0322 - wine_quality_root_mean_squared_error: 0.5869 - wine_type_accuracy: 0.9946 - val_loss: 0.3648 - val_wine_quality_loss: 0.3462 - val_wine_type_loss: 0.0170 - val_wine_quality_root_mean_squared_error: 0.5896 - val_wine_type_accuracy: 0.9962\n"
     ]
    }
   ],
   "source": [
    "## Please uncomment all lines in this cell and replace those marked with `# YOUR CODE HERE`.\n",
    "## You can select all lines in this code cell with Ctrl+A (Windows/Linux) or Cmd+A (Mac), then press Ctrl+/ (Windows/Linux) or Cmd+/ (Mac) to uncomment.\n",
    "\n",
    "\n",
    "\n",
    "history = model.fit(norm_train_X, train_Y,\n",
    "                    epochs = 40, validation_data=(norm_val_X, val_Y))"
   ]
  },
  {
   "cell_type": "code",
   "execution_count": 61,
   "metadata": {
    "deletable": false,
    "editable": false,
    "nbgrader": {
     "cell_type": "code",
     "checksum": "fadad8896eda9c8c2115970724b15508",
     "grade": true,
     "grade_id": "cell-eb4d5b41bef8f0ab",
     "locked": true,
     "points": 1,
     "schema_version": 3,
     "solution": false,
     "task": false
    }
   },
   "outputs": [
    {
     "name": "stdout",
     "output_type": "stream",
     "text": [
      "\u001b[92m All public tests passed\n"
     ]
    }
   ],
   "source": [
    "utils.test_history(history)"
   ]
  },
  {
   "cell_type": "code",
   "execution_count": 62,
   "metadata": {
    "colab": {},
    "colab_type": "code",
    "id": "CubF2J2gSf6q"
   },
   "outputs": [
    {
     "name": "stdout",
     "output_type": "stream",
     "text": [
      "789/789 [==============================] - 0s 22us/sample - loss: 0.3648 - wine_quality_loss: 0.3462 - wine_type_loss: 0.0170 - wine_quality_root_mean_squared_error: 0.5896 - wine_type_accuracy: 0.9962\n",
      "\n",
      "loss: 0.3647964153113021\n",
      "wine_quality_loss: 0.3461751639842987\n",
      "wine_type_loss: 0.01698875240981579\n",
      "wine_quality_rmse: 0.5895785689353943\n",
      "wine_type_accuracy: 0.9961977005004883\n"
     ]
    }
   ],
   "source": [
    "# Gather the training metrics\n",
    "loss, wine_quality_loss, wine_type_loss, wine_quality_rmse, wine_type_accuracy = model.evaluate(x=norm_val_X, y=val_Y)\n",
    "\n",
    "print()\n",
    "print(f'loss: {loss}')\n",
    "print(f'wine_quality_loss: {wine_quality_loss}')\n",
    "print(f'wine_type_loss: {wine_type_loss}')\n",
    "print(f'wine_quality_rmse: {wine_quality_rmse}')\n",
    "print(f'wine_type_accuracy: {wine_type_accuracy}')\n",
    "\n",
    "# EXPECTED VALUES\n",
    "# ~ 0.30 - 0.38\n",
    "# ~ 0.30 - 0.38\n",
    "# ~ 0.018 - 0.036\n",
    "# ~ 0.50 - 0.62\n",
    "# ~ 0.97 - 1.0\n",
    "\n",
    "# Example:\n",
    "#0.3657050132751465\n",
    "#0.3463745415210724\n",
    "#0.019330406561493874\n",
    "#0.5885359048843384\n",
    "#0.9974651336669922"
   ]
  },
  {
   "cell_type": "markdown",
   "metadata": {
    "colab_type": "text",
    "id": "gPtTGAP4usnm"
   },
   "source": [
    "## Analyze the Model Performance\n",
    "\n",
    "Note that the model has two outputs. The output at index 0 is quality and index 1 is wine type\n",
    "\n",
    "So, round the quality predictions to the nearest integer."
   ]
  },
  {
   "cell_type": "code",
   "execution_count": 63,
   "metadata": {
    "colab": {},
    "colab_type": "code",
    "id": "tBq9PEeAaW-Y"
   },
   "outputs": [],
   "source": [
    "predictions = model.predict(norm_test_X)\n",
    "quality_pred = predictions[0]\n",
    "type_pred = predictions[1]"
   ]
  },
  {
   "cell_type": "code",
   "execution_count": 64,
   "metadata": {
    "colab": {},
    "colab_type": "code",
    "id": "YLhgTR4xTIxj"
   },
   "outputs": [
    {
     "name": "stdout",
     "output_type": "stream",
     "text": [
      "[5.9211745]\n"
     ]
    }
   ],
   "source": [
    "print(quality_pred[0])\n",
    "\n",
    "# EXPECTED OUTPUT\n",
    "# 5.4 - 6.0"
   ]
  },
  {
   "cell_type": "code",
   "execution_count": 65,
   "metadata": {
    "colab": {},
    "colab_type": "code",
    "id": "MPi-eYfGTUXi"
   },
   "outputs": [
    {
     "name": "stdout",
     "output_type": "stream",
     "text": [
      "[0.99929714]\n",
      "[0.01883355]\n"
     ]
    }
   ],
   "source": [
    "print(type_pred[0])\n",
    "print(type_pred[944])\n",
    "\n",
    "# EXPECTED OUTPUT\n",
    "# A number close to zero\n",
    "# A number close to or equal to 1"
   ]
  },
  {
   "cell_type": "markdown",
   "metadata": {
    "colab_type": "text",
    "id": "Kohk-9C6vt_s"
   },
   "source": [
    "### Plot Utilities\n",
    "\n",
    "We define a few utilities to visualize the model performance."
   ]
  },
  {
   "cell_type": "code",
   "execution_count": 66,
   "metadata": {
    "colab": {},
    "colab_type": "code",
    "id": "62gEOFUhn6aQ"
   },
   "outputs": [],
   "source": [
    "def plot_metrics(metric_name, title, ylim=5):\n",
    "    plt.title(title)\n",
    "    plt.ylim(0,ylim)\n",
    "    plt.plot(history.history[metric_name],color='blue',label=metric_name)\n",
    "    plt.plot(history.history['val_' + metric_name],color='green',label='val_' + metric_name)\n"
   ]
  },
  {
   "cell_type": "code",
   "execution_count": 67,
   "metadata": {
    "colab": {},
    "colab_type": "code",
    "id": "6rfgSx7uz5dj"
   },
   "outputs": [],
   "source": [
    "def plot_confusion_matrix(y_true, y_pred, title='', labels=[0,1]):\n",
    "    cm = confusion_matrix(y_true, y_pred)\n",
    "    fig = plt.figure()\n",
    "    ax = fig.add_subplot(111)\n",
    "    cax = ax.matshow(cm)\n",
    "    plt.title('Confusion matrix of the classifier')\n",
    "    fig.colorbar(cax)\n",
    "    ax.set_xticklabels([''] + labels)\n",
    "    ax.set_yticklabels([''] + labels)\n",
    "    plt.xlabel('Predicted')\n",
    "    plt.ylabel('True')\n",
    "    fmt = 'd'\n",
    "    thresh = cm.max() / 2.\n",
    "    for i, j in itertools.product(range(cm.shape[0]), range(cm.shape[1])):\n",
    "          plt.text(j, i, format(cm[i, j], fmt),\n",
    "                  horizontalalignment=\"center\",\n",
    "                  color=\"black\" if cm[i, j] > thresh else \"white\")\n",
    "    plt.show()"
   ]
  },
  {
   "cell_type": "code",
   "execution_count": 68,
   "metadata": {
    "colab": {},
    "colab_type": "code",
    "id": "dfVLIqi017Vf"
   },
   "outputs": [],
   "source": [
    "def plot_diff(y_true, y_pred, title = '' ):\n",
    "    plt.scatter(y_true, y_pred)\n",
    "    plt.title(title)\n",
    "    plt.xlabel('True Values')\n",
    "    plt.ylabel('Predictions')\n",
    "    plt.axis('equal')\n",
    "    plt.axis('square')\n",
    "    plt.plot([-100, 100], [-100, 100])\n",
    "    return plt"
   ]
  },
  {
   "cell_type": "markdown",
   "metadata": {
    "colab_type": "text",
    "id": "8sd1jdFbwE0I"
   },
   "source": [
    "### Plots for Metrics"
   ]
  },
  {
   "cell_type": "code",
   "execution_count": 69,
   "metadata": {
    "colab": {},
    "colab_type": "code",
    "id": "f3MwZ5J1pOfj"
   },
   "outputs": [
    {
     "data": {
      "image/png": "[encoded data removed]",
      "text/plain": [
       "<Figure size 432x288 with 1 Axes>"
      ]
     },
     "metadata": {
      "needs_background": "light"
     },
     "output_type": "display_data"
    }
   ],
   "source": [
    "plot_metrics('wine_quality_root_mean_squared_error', 'RMSE', ylim=2)"
   ]
  },
  {
   "cell_type": "code",
   "execution_count": 70,
   "metadata": {
    "colab": {},
    "colab_type": "code",
    "id": "QIAxEezCppnd"
   },
   "outputs": [
    {
     "data": {
      "image/png": "[encoded data removed]",
      "text/plain": [
       "<Figure size 432x288 with 1 Axes>"
      ]
     },
     "metadata": {
      "needs_background": "light"
     },
     "output_type": "display_data"
    }
   ],
   "source": [
    "plot_metrics('wine_type_loss', 'Wine Type Loss', ylim=0.2)"
   ]
  },
  {
   "cell_type": "markdown",
   "metadata": {
    "colab_type": "text",
    "id": "uYV9AOAMwI9p"
   },
   "source": [
    "### Plots for Confusion Matrix\n",
    "\n",
    "Plot the confusion matrices for wine type. You can see that the model performs well for prediction of wine type from the confusion matrix and the loss metrics."
   ]
  },
  {
   "cell_type": "code",
   "execution_count": 71,
   "metadata": {
    "colab": {},
    "colab_type": "code",
    "id": "C3hvTYxIaf3n"
   },
   "outputs": [
    {
     "data": {
      "image/png": "[encoded data removed]",
      "text/plain": [
       "<Figure size 432x288 with 2 Axes>"
      ]
     },
     "metadata": {
      "needs_background": "light"
     },
     "output_type": "display_data"
    }
   ],
   "source": [
    "plot_confusion_matrix(test_Y[1], np.round(type_pred), title='Wine Type', labels = [0, 1])"
   ]
  },
  {
   "cell_type": "code",
   "execution_count": 72,
   "metadata": {
    "colab": {},
    "colab_type": "code",
    "id": "GW91ym8P2I5y"
   },
   "outputs": [
    {
     "data": {
      "image/png": "[encoded data removed]",
      "text/plain": [
       "<Figure size 432x288 with 1 Axes>"
      ]
     },
     "metadata": {
      "needs_background": "light"
     },
     "output_type": "display_data"
    }
   ],
   "source": [
    "scatter_plot = plot_diff(test_Y[0], quality_pred, title='Type')"
   ]
  }
 ],
 "metadata": {
  "colab": {
   "include_colab_link": true,
   "name": "exercise-answer.ipynb",
   "provenance": []
  },
  "kernelspec": {
   "display_name": "Python 3",
   "language": "python",
   "name": "python3"
  },
  "language_info": {
   "codemirror_mode": {
    "name": "ipython",
    "version": 3
   },
   "file_extension": ".py",
   "mimetype": "text/x-python",
   "name": "python",
   "nbconvert_exporter": "python",
   "pygments_lexer": "ipython3",
   "version": "3.7.6"
  }
 },
 "nbformat": 4,
 "nbformat_minor": 4
}
